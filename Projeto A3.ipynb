{
 "cells": [
  {
   "cell_type": "code",
   "execution_count": 1,
   "metadata": {},
   "outputs": [],
   "source": [
    "import pandas as pd\n",
    "import numpy as np\n",
    "import os\n",
    "import time\n",
    "import datetime as datetime\n",
    "from datetime import datetime, timedelta\n",
    "import shutil, sys, string"
   ]
  },
  {
   "cell_type": "code",
   "execution_count": 2,
   "metadata": {},
   "outputs": [
    {
     "name": "stdout",
     "output_type": "stream",
     "text": [
      "#01. Inicia leitura: \n",
      "#Leitura Concluída\n"
     ]
    }
   ],
   "source": [
    "#01. Inicia leitura :\n",
    "\n",
    "print (\"#01. Inicia leitura: \")\n",
    "\n",
    "dados_chuva = r'C:\\Users\\brassam\\Desktop\\projeto\\chuva_piracicaba.CSV'\n",
    "\n",
    "df_chuva = pd.read_csv(dados_chuva, sep=';', encoding = 'latin1')\n",
    "\n",
    "df_chuva = df_chuva.rename(columns={'Hora UTC': 'Hora','PRECIPITAÇÃO TOTAL, HORÁRIO (mm)':'precipatação total (mm)','TEMPERATURA MÁXIMA NA HORA ANT. (AUT) (°C)':'Temperatura Máxima (°C)','TEMPERATURA MÍNIMA NA HORA ANT. (AUT) (°C)': 'Temperatura Mínima (°C)','UMIDADE REL. MAX. NA HORA ANT. (AUT) (%)':'Umidade Relativa Ar Max. (%)','UMIDADE REL. MIN. NA HORA ANT. (AUT) (%)':'Unidade Relativa Ar Min. (%)'})\n",
    "\n",
    "df_chuva = df_chuva.drop(columns = ['TEMPERATURA ORVALHO MIN. NA HORA ANT. (AUT) (°C)','UMIDADE RELATIVA DO AR, HORARIA (%)'])\n",
    "\n",
    "print('#Leitura Concluída')"
   ]
  },
  {
   "cell_type": "code",
   "execution_count": 3,
   "metadata": {},
   "outputs": [
    {
     "name": "stdout",
     "output_type": "stream",
     "text": [
      "#02. Inicia formatação da data e hora: \n",
      "#Formatação Concluída\n"
     ]
    }
   ],
   "source": [
    "#02. Formatação da e hora :\n",
    "\n",
    "print (\"#02. Inicia formatação da data e hora: \")\n",
    "\n",
    "\n",
    "# Cria um DataFrame de exemplo\n",
    "df_hora = pd.DataFrame({'hora': ['0000 UTC','0100 UTC','0200 UTC','0300 UTC','0400 UTC','0500 UTC','0600 UTC','0700 UTC','0800 UTC','0900 UTC','1000 UTC','1100 UTC','1200 UTC','1300 UTC','1400 UTC','1500 UTC','1600 UTC','1700 UTC','1800 UTC','1900 UTC','2000 UTC','2100 UTC','2200 UTC','2300 UTC']})\n",
    "\n",
    "# Aplica a função de conversão a todas as linhas da coluna\n",
    "df_chuva['Hora_'] = df_hora['hora'].apply(lambda x: datetime.strptime(x, '%H%M %Z').strftime('%H:%M'))\n",
    "\n",
    "df_chuva['Data'] = pd.to_datetime(df_chuva['Data'] , format=\"%d/%m/%Y\")\n",
    "\n",
    "\n",
    "print('#Formatação Concluída')"
   ]
  },
  {
   "cell_type": "code",
   "execution_count": 5,
   "metadata": {},
   "outputs": [],
   "source": [
    "# Cria uma lista com os nomes dos meses em ordem\n",
    "meses = ['Janeiro', 'Fevereiro', 'Março', 'Abril', 'Maio', 'Junho',\n",
    "         'Julho', 'Agosto', 'Setembro', 'Outubro', 'Novembro', 'Dezembro']\n",
    "\n",
    "# Agrupa as linhas por mês e armazena cada grupo em um dataframe separado\n",
    "dfs_meses = [group[1] for group in df_chuva.groupby(df_chuva['Data'].dt.month)]\n",
    "\n",
    "# Adiciona o nome do mês em cada dataframe\n",
    "for i, df in enumerate(dfs_meses):\n",
    "    df['mes'] = meses[i]\n",
    "\n",
    "# Armazena cada dataframe em uma variável separada\n",
    "df_janeiro = dfs_meses[0]\n",
    "df_fevereiro = dfs_meses[1]\n",
    "df_marco = dfs_meses[2]\n"
   ]
  },
  {
   "cell_type": "code",
   "execution_count": 10,
   "metadata": {},
   "outputs": [],
   "source": [
    "t_janeiro = 'C:\\\\Server\\\\csv\\\\chuva_janeiro.csv'\n",
    "df_janeiro.to_csv(t_janeiro, sep = \";\", encoding='ANSI', header=True, index=False)\n",
    "\n",
    "t_fevereiro = 'C:\\\\Server\\\\csv\\\\chuva_fevereiro.csv'\n",
    "df_fevereiro.to_csv(t_fevereiro, sep = \";\", encoding='ANSI', header=True, index=False)\n",
    "\n",
    "t_marco = 'C:\\\\Server\\\\csv\\\\chuva_marco.csv'\n",
    "df_marco.to_csv(t_marco, sep = \";\", encoding='ANSI', header=True, index=False)"
   ]
  },
  {
   "cell_type": "code",
   "execution_count": null,
   "metadata": {},
   "outputs": [],
   "source": []
  }
 ],
 "metadata": {
  "kernelspec": {
   "display_name": "Python 3",
   "language": "python",
   "name": "python3"
  },
  "language_info": {
   "codemirror_mode": {
    "name": "ipython",
    "version": 3
   },
   "file_extension": ".py",
   "mimetype": "text/x-python",
   "name": "python",
   "nbconvert_exporter": "python",
   "pygments_lexer": "ipython3",
   "version": "3.8.3"
  }
 },
 "nbformat": 4,
 "nbformat_minor": 4
}
